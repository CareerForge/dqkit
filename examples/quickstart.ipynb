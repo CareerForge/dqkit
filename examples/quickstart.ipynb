{
  "cells": [
    {
      "cell_type": "markdown",
      "metadata": {},
      "source": [
        "# dqkit Quickstart\n",
        "\n",
        "This notebook shows a minimal end-to-end run using **dqkit** on a toy pandas DataFrame:\n",
        "- Create a `Dataset`\n",
        "- Run profiling, missingness, imbalance\n",
        "- Merge into a `RunReport`\n",
        "- Apply standards/interpretations\n",
        "- Render an HTML report\n"
      ]
    },
    {
      "cell_type": "code",
      "execution_count": 1,
      "metadata": {},
      "outputs": [
        {
          "data": {
            "text/html": [
              "<div>\n",
              "<style scoped>\n",
              "    .dataframe tbody tr th:only-of-type {\n",
              "        vertical-align: middle;\n",
              "    }\n",
              "\n",
              "    .dataframe tbody tr th {\n",
              "        vertical-align: top;\n",
              "    }\n",
              "\n",
              "    .dataframe thead th {\n",
              "        text-align: right;\n",
              "    }\n",
              "</style>\n",
              "<table border=\"1\" class=\"dataframe\">\n",
              "  <thead>\n",
              "    <tr style=\"text-align: right;\">\n",
              "      <th></th>\n",
              "      <th>age</th>\n",
              "      <th>fare</th>\n",
              "      <th>label</th>\n",
              "    </tr>\n",
              "  </thead>\n",
              "  <tbody>\n",
              "    <tr>\n",
              "      <th>0</th>\n",
              "      <td>20.0</td>\n",
              "      <td>100.0</td>\n",
              "      <td>0</td>\n",
              "    </tr>\n",
              "    <tr>\n",
              "      <th>1</th>\n",
              "      <td>25.0</td>\n",
              "      <td>80.5</td>\n",
              "      <td>0</td>\n",
              "    </tr>\n",
              "    <tr>\n",
              "      <th>2</th>\n",
              "      <td>30.0</td>\n",
              "      <td>120.2</td>\n",
              "      <td>1</td>\n",
              "    </tr>\n",
              "    <tr>\n",
              "      <th>3</th>\n",
              "      <td>NaN</td>\n",
              "      <td>99.9</td>\n",
              "      <td>1</td>\n",
              "    </tr>\n",
              "    <tr>\n",
              "      <th>4</th>\n",
              "      <td>45.0</td>\n",
              "      <td>200.0</td>\n",
              "      <td>1</td>\n",
              "    </tr>\n",
              "  </tbody>\n",
              "</table>\n",
              "</div>"
            ],
            "text/plain": [
              "    age   fare  label\n",
              "0  20.0  100.0      0\n",
              "1  25.0   80.5      0\n",
              "2  30.0  120.2      1\n",
              "3   NaN   99.9      1\n",
              "4  45.0  200.0      1"
            ]
          },
          "execution_count": 1,
          "metadata": {},
          "output_type": "execute_result"
        }
      ],
      "source": [
        "import pandas as pd\n",
        "from dqkit.types import Dataset, RunReport\n",
        "from dqkit.profiling import profile\n",
        "from dqkit.missingness import analyze_missingness\n",
        "from dqkit.imbalance import measure_imbalance\n",
        "from dqkit.standards import apply_interpretations\n",
        "from dqkit.report import render\n",
        "\n",
        "df = pd.DataFrame({\n",
        "    'age': [20, 25, 30, None, 45, 50],\n",
        "    'fare': [100.0, 80.5, 120.2, 99.9, 200.0, 55.0],\n",
        "    'label': [0, 0, 1, 1, 1, 1],\n",
        "})\n",
        "ds = Dataset(df, name='demo')\n",
        "ds.df.head()"
      ]
    },
    {
      "cell_type": "code",
      "execution_count": 2,
      "metadata": {},
      "outputs": [
        {
          "data": {
            "text/plain": [
              "55"
            ]
          },
          "execution_count": 2,
          "metadata": {},
          "output_type": "execute_result"
        }
      ],
      "source": [
        "# Run a few modules\n",
        "rep_profile = profile(ds, artifacts_dir='artifacts')\n",
        "rep_missing = analyze_missingness(ds, artifacts_dir='artifacts')\n",
        "rep_imb = measure_imbalance(ds, y='label')\n",
        "\n",
        "# Merge reports\n",
        "metrics = rep_profile.metrics + rep_missing.metrics + rep_imb.metrics\n",
        "artifacts = {**rep_profile.artifacts, **rep_missing.artifacts, **rep_imb.artifacts}\n",
        "combined = RunReport(metrics=metrics, artifacts=artifacts, meta={'example': 'quickstart'})\n",
        "\n",
        "# Apply interpretations\n",
        "interpreted = apply_interpretations(combined)\n",
        "len(interpreted.metrics)"
      ]
    },
    {
      "cell_type": "code",
      "execution_count": 3,
      "metadata": {},
      "outputs": [
        {
          "data": {
            "text/plain": [
              "{'html': 'dq_reports/quickstart.html', 'markdown': 'dq_reports/quickstart.md'}"
            ]
          },
          "execution_count": 3,
          "metadata": {},
          "output_type": "execute_result"
        }
      ],
      "source": [
        "# Render HTML + Markdown report\n",
        "paths = render(interpreted, out_dir='dq_reports', filename='quickstart.html')\n",
        "paths"
      ]
    },
    {
      "cell_type": "code",
      "execution_count": null,
      "id": "ed39b9ec",
      "metadata": {},
      "outputs": [],
      "source": []
    }
  ],
  "metadata": {
    "kernelspec": {
      "display_name": "Python 3",
      "language": "python",
      "name": "python3"
    },
    "language_info": {
      "codemirror_mode": {
        "name": "ipython",
        "version": 3
      },
      "file_extension": ".py",
      "mimetype": "text/x-python",
      "name": "python",
      "nbconvert_exporter": "python",
      "pygments_lexer": "ipython3",
      "version": "3.13.5"
    }
  },
  "nbformat": 4,
  "nbformat_minor": 5
}
